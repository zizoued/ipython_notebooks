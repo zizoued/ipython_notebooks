{
 "cells": [
  {
   "cell_type": "code",
   "execution_count": 1,
   "metadata": {
    "collapsed": true
   },
   "outputs": [],
   "source": [
    "%matplotlib inline"
   ]
  },
  {
   "cell_type": "code",
   "execution_count": 2,
   "metadata": {
    "collapsed": false
   },
   "outputs": [
    {
     "name": "stdout",
     "output_type": "stream",
     "text": [
      "showing info http://www.nltk.org/nltk_data/\n"
     ]
    },
    {
     "data": {
      "text/plain": [
       "True"
      ]
     },
     "execution_count": 2,
     "metadata": {},
     "output_type": "execute_result"
    }
   ],
   "source": [
    "import nltk\n",
    "nltk.download()"
   ]
  },
  {
   "cell_type": "code",
   "execution_count": 3,
   "metadata": {
    "collapsed": false
   },
   "outputs": [
    {
     "name": "stdout",
     "output_type": "stream",
     "text": [
      "*** Introductory Examples for the NLTK Book ***\n",
      "Loading text1, ..., text9 and sent1, ..., sent9\n",
      "Type the name of the text or sentence to view it.\n",
      "Type: 'texts()' or 'sents()' to list the materials.\n",
      "text1: Moby Dick by Herman Melville 1851\n",
      "text2: Sense and Sensibility by Jane Austen 1811\n",
      "text3: The Book of Genesis\n",
      "text4: Inaugural Address Corpus\n",
      "text5: Chat Corpus\n",
      "text6: Monty Python and the Holy Grail\n",
      "text7: Wall Street Journal\n",
      "text8: Personals Corpus\n",
      "text9: The Man Who Was Thursday by G . K . Chesterton 1908\n"
     ]
    }
   ],
   "source": [
    "from nltk.book import *"
   ]
  },
  {
   "cell_type": "code",
   "execution_count": 4,
   "metadata": {
    "collapsed": false
   },
   "outputs": [
    {
     "name": "stdout",
     "output_type": "stream",
     "text": [
      "Displaying 11 of 11 matches:\n",
      "ong the former , one was of a most monstrous size . ... This came towards us , \n",
      "ON OF THE PSALMS . \" Touching that monstrous bulk of the whale or ork we have r\n",
      "ll over with a heathenish array of monstrous clubs and spears . Some were thick\n",
      "d as you gazed , and wondered what monstrous cannibal and savage could ever hav\n",
      "that has survived the flood ; most monstrous and most mountainous ! That Himmal\n",
      "they might scout at Moby Dick as a monstrous fable , or still worse and more de\n",
      "th of Radney .'\" CHAPTER 55 Of the Monstrous Pictures of Whales . I shall ere l\n",
      "ing Scenes . In connexion with the monstrous pictures of whales , I am strongly\n",
      "ere to enter upon those still more monstrous stories of them which are to be fo\n",
      "ght have been rummaged out of this monstrous cabinet there is no telling . But \n",
      "of Whale - Bones ; for Whales of a monstrous size are oftentimes cast up dead u\n"
     ]
    }
   ],
   "source": [
    "text1.concordance(\"monstrous\")"
   ]
  },
  {
   "cell_type": "code",
   "execution_count": 5,
   "metadata": {
    "collapsed": false
   },
   "outputs": [
    {
     "name": "stdout",
     "output_type": "stream",
     "text": [
      "imperial subtly impalpable pitiable curious abundant perilous\n",
      "trustworthy untoward singular lamentable few determined maddens\n",
      "horrible tyrannical lazy mystifying christian exasperate\n"
     ]
    }
   ],
   "source": [
    "text1.similar(\"monstrous\")"
   ]
  },
  {
   "cell_type": "code",
   "execution_count": 6,
   "metadata": {
    "collapsed": false
   },
   "outputs": [
    {
     "name": "stdout",
     "output_type": "stream",
     "text": [
      "a_pretty is_pretty a_lucky am_glad be_glad\n"
     ]
    }
   ],
   "source": [
    "text2.common_contexts([\"monstrous\",\"very\"])"
   ]
  },
  {
   "cell_type": "code",
   "execution_count": 7,
   "metadata": {
    "collapsed": false
   },
   "outputs": [
    {
     "data": {
      "image/png": "[encoded data removed]",
      "text/plain": [
       "<matplotlib.figure.Figure at 0x16bfbc50>"
      ]
     },
     "metadata": {},
     "output_type": "display_data"
    }
   ],
   "source": [
    "text4.dispersion_plot([\"citizens\",\"democracy\"])"
   ]
  },
  {
   "cell_type": "code",
   "execution_count": 8,
   "metadata": {
    "collapsed": false
   },
   "outputs": [
    {
     "data": {
      "text/plain": [
       "44764"
      ]
     },
     "execution_count": 8,
     "metadata": {},
     "output_type": "execute_result"
    }
   ],
   "source": [
    "len(text3)"
   ]
  },
  {
   "cell_type": "code",
   "execution_count": 9,
   "metadata": {
    "collapsed": false
   },
   "outputs": [
    {
     "data": {
      "text/plain": [
       "2789"
      ]
     },
     "execution_count": 9,
     "metadata": {},
     "output_type": "execute_result"
    }
   ],
   "source": [
    "len(set(text3))"
   ]
  },
  {
   "cell_type": "code",
   "execution_count": 10,
   "metadata": {
    "collapsed": false
   },
   "outputs": [
    {
     "data": {
      "text/plain": [
       "[u'among',\n",
       " u'the',\n",
       " u'merits',\n",
       " u'and',\n",
       " u'the',\n",
       " u'happiness',\n",
       " u'of',\n",
       " u'Elinor',\n",
       " u'and',\n",
       " u'Marianne',\n",
       " u',',\n",
       " u'let',\n",
       " u'it',\n",
       " u'not',\n",
       " u'be',\n",
       " u'ranked',\n",
       " u'as',\n",
       " u'the',\n",
       " u'least',\n",
       " u'considerable',\n",
       " u',',\n",
       " u'that',\n",
       " u'though',\n",
       " u'sisters',\n",
       " u',',\n",
       " u'and',\n",
       " u'living',\n",
       " u'almost',\n",
       " u'within',\n",
       " u'sight',\n",
       " u'of',\n",
       " u'each',\n",
       " u'other',\n",
       " u',',\n",
       " u'they',\n",
       " u'could',\n",
       " u'live',\n",
       " u'without',\n",
       " u'disagreement',\n",
       " u'between',\n",
       " u'themselves',\n",
       " u',',\n",
       " u'or',\n",
       " u'producing',\n",
       " u'coolness',\n",
       " u'between',\n",
       " u'their',\n",
       " u'husbands',\n",
       " u'.',\n",
       " u'THE',\n",
       " u'END']"
      ]
     },
     "execution_count": 10,
     "metadata": {},
     "output_type": "execute_result"
    }
   ],
   "source": [
    "text2[141525:]"
   ]
  },
  {
   "cell_type": "code",
   "execution_count": 11,
   "metadata": {
    "collapsed": false
   },
   "outputs": [
    {
     "data": {
      "text/plain": [
       "FreqDist({u',': 18713, u'the': 13721, u'.': 6862, u'of': 6536, u'and': 6024, u'a': 4569, u'to': 4542, u';': 4072, u'in': 3916, u'that': 2982, ...})"
      ]
     },
     "execution_count": 11,
     "metadata": {},
     "output_type": "execute_result"
    }
   ],
   "source": [
    "fdist1 = FreqDist(text1)\n",
    "fdist1"
   ]
  },
  {
   "cell_type": "code",
   "execution_count": 12,
   "metadata": {
    "collapsed": false
   },
   "outputs": [
    {
     "data": {
      "text/plain": [
       "[(u',', 18713),\n",
       " (u'the', 13721),\n",
       " (u'.', 6862),\n",
       " (u'of', 6536),\n",
       " (u'and', 6024),\n",
       " (u'a', 4569),\n",
       " (u'to', 4542),\n",
       " (u';', 4072),\n",
       " (u'in', 3916),\n",
       " (u'that', 2982),\n",
       " (u\"'\", 2684),\n",
       " (u'-', 2552),\n",
       " (u'his', 2459),\n",
       " (u'it', 2209),\n",
       " (u'I', 2124),\n",
       " (u's', 1739),\n",
       " (u'is', 1695),\n",
       " (u'he', 1661),\n",
       " (u'with', 1659),\n",
       " (u'was', 1632)]"
      ]
     },
     "execution_count": 12,
     "metadata": {},
     "output_type": "execute_result"
    }
   ],
   "source": [
    "fdist1.most_common(20)"
   ]
  },
  {
   "cell_type": "code",
   "execution_count": 14,
   "metadata": {
    "collapsed": false
   },
   "outputs": [
    {
     "data": {
      "text/plain": [
       "906"
      ]
     },
     "execution_count": 14,
     "metadata": {},
     "output_type": "execute_result"
    }
   ],
   "source": [
    "fdist1['whale']"
   ]
  },
  {
   "cell_type": "code",
   "execution_count": 15,
   "metadata": {
    "collapsed": false
   },
   "outputs": [
    {
     "data": {
      "image/png": "[encoded data removed]",
      "text/plain": [
       "<matplotlib.figure.Figure at 0x2951b2b0>"
      ]
     },
     "metadata": {},
     "output_type": "display_data"
    }
   ],
   "source": [
    "fdist1.plot(20,cumulative =True)"
   ]
  },
  {
   "cell_type": "code",
   "execution_count": 16,
   "metadata": {
    "collapsed": false
   },
   "outputs": [
    {
     "data": {
      "text/plain": [
       "[u'CIRCUMNAVIGATION',\n",
       " u'Physiognomically',\n",
       " u'apprehensiveness',\n",
       " u'cannibalistically',\n",
       " u'characteristically',\n",
       " u'circumnavigating',\n",
       " u'circumnavigation',\n",
       " u'circumnavigations',\n",
       " u'comprehensiveness',\n",
       " u'hermaphroditical',\n",
       " u'indiscriminately',\n",
       " u'indispensableness',\n",
       " u'irresistibleness',\n",
       " u'physiognomically',\n",
       " u'preternaturalness',\n",
       " u'responsibilities',\n",
       " u'simultaneousness',\n",
       " u'subterraneousness',\n",
       " u'supernaturalness',\n",
       " u'superstitiousness',\n",
       " u'uncomfortableness',\n",
       " u'uncompromisedness',\n",
       " u'undiscriminating',\n",
       " u'uninterpenetratingly']"
      ]
     },
     "execution_count": 16,
     "metadata": {},
     "output_type": "execute_result"
    }
   ],
   "source": [
    "V = set(text1)\n",
    "long_words = [w for w in V if len(w) > 15]\n",
    "sorted(long_words)"
   ]
  },
  {
   "cell_type": "code",
   "execution_count": 17,
   "metadata": {
    "collapsed": false
   },
   "outputs": [
    {
     "data": {
      "text/plain": [
       "[u'#14-19teens',\n",
       " u'#talkcity_adults',\n",
       " u'((((((((((',\n",
       " u'........',\n",
       " u'Question',\n",
       " u'actually',\n",
       " u'anything',\n",
       " u'computer',\n",
       " u'cute.-ass',\n",
       " u'everyone',\n",
       " u'football',\n",
       " u'innocent',\n",
       " u'listening',\n",
       " u'remember',\n",
       " u'seriously',\n",
       " u'something',\n",
       " u'together',\n",
       " u'tomorrow',\n",
       " u'watching']"
      ]
     },
     "execution_count": 17,
     "metadata": {},
     "output_type": "execute_result"
    }
   ],
   "source": [
    "fdist2 = FreqDist(text5)\n",
    "sorted(w for w in set(text5) if len(w) > 7 and fdist2[w] > 7)"
   ]
  },
  {
   "cell_type": "code",
   "execution_count": 18,
   "metadata": {
    "collapsed": false
   },
   "outputs": [
    {
     "name": "stdout",
     "output_type": "stream",
     "text": [
      "United States; fellow citizens; four years; years ago; Federal\n",
      "Government; General Government; American people; Vice President; Old\n",
      "World; Almighty God; Fellow citizens; Chief Magistrate; Chief Justice;\n",
      "God bless; every citizen; Indian tribes; public debt; one another;\n",
      "foreign nations; political parties\n"
     ]
    }
   ],
   "source": [
    "text4.collocations()"
   ]
  },
  {
   "cell_type": "code",
   "execution_count": 19,
   "metadata": {
    "collapsed": true
   },
   "outputs": [],
   "source": [
    "#RAW TEXT PROCESSING!"
   ]
  },
  {
   "cell_type": "code",
   "execution_count": 20,
   "metadata": {
    "collapsed": false
   },
   "outputs": [
    {
     "data": {
      "text/plain": [
       "1176896"
      ]
     },
     "execution_count": 20,
     "metadata": {},
     "output_type": "execute_result"
    }
   ],
   "source": [
    "import urllib2\n",
    "url = \"http://www.gutenberg.org/files/2554/2554.txt\"\n",
    "response = urllib2.urlopen(url)\n",
    "raw = response.read().decode('utf8')\n",
    "len(raw)"
   ]
  },
  {
   "cell_type": "code",
   "execution_count": 21,
   "metadata": {
    "collapsed": false
   },
   "outputs": [
    {
     "data": {
      "text/plain": [
       "u'The Project Gutenberg EBook of Crime and Punishmen'"
      ]
     },
     "execution_count": 21,
     "metadata": {},
     "output_type": "execute_result"
    }
   ],
   "source": [
    "raw[:50]"
   ]
  },
  {
   "cell_type": "code",
   "execution_count": 22,
   "metadata": {
    "collapsed": false
   },
   "outputs": [
    {
     "data": {
      "text/plain": [
       "254352"
      ]
     },
     "execution_count": 22,
     "metadata": {},
     "output_type": "execute_result"
    }
   ],
   "source": [
    "#tokenize\n",
    "\n",
    "from nltk import word_tokenize\n",
    "\n",
    "tokens = word_tokenize(raw)\n",
    "len(tokens)"
   ]
  },
  {
   "cell_type": "code",
   "execution_count": 23,
   "metadata": {
    "collapsed": false
   },
   "outputs": [
    {
     "data": {
      "text/plain": [
       "[u'The',\n",
       " u'Project',\n",
       " u'Gutenberg',\n",
       " u'EBook',\n",
       " u'of',\n",
       " u'Crime',\n",
       " u'and',\n",
       " u'Punishment',\n",
       " u',',\n",
       " u'by']"
      ]
     },
     "execution_count": 23,
     "metadata": {},
     "output_type": "execute_result"
    }
   ],
   "source": [
    "tokens[:10]"
   ]
  },
  {
   "cell_type": "code",
   "execution_count": 24,
   "metadata": {
    "collapsed": false
   },
   "outputs": [
    {
     "data": {
      "text/plain": [
       "[u'The',\n",
       " u'Project',\n",
       " u'Gutenberg',\n",
       " u'EBook',\n",
       " u'of',\n",
       " u'Crime',\n",
       " u'and',\n",
       " u'Punishment',\n",
       " u',',\n",
       " u'by',\n",
       " u'Fyodor',\n",
       " u'Dostoevsky',\n",
       " u'This',\n",
       " u'eBook',\n",
       " u'is',\n",
       " u'for',\n",
       " u'the',\n",
       " u'use',\n",
       " u'of',\n",
       " u'anyone',\n",
       " u'anywhere',\n",
       " u'at',\n",
       " u'no',\n",
       " u'cost',\n",
       " u'and',\n",
       " u'with',\n",
       " u'almost',\n",
       " u'no',\n",
       " u'restrictions',\n",
       " u'whatsoever',\n",
       " u'.',\n",
       " u'You',\n",
       " u'may',\n",
       " u'copy',\n",
       " u'it',\n",
       " u',',\n",
       " u'give',\n",
       " u'it',\n",
       " u'away',\n",
       " u'or',\n",
       " u're-use',\n",
       " u'it',\n",
       " u'under',\n",
       " u'the',\n",
       " u'terms',\n",
       " u'of',\n",
       " u'the',\n",
       " u'Project',\n",
       " u'Gutenberg',\n",
       " u'License']"
      ]
     },
     "execution_count": 24,
     "metadata": {},
     "output_type": "execute_result"
    }
   ],
   "source": [
    "text = nltk.Text(tokens)\n",
    "text[:50]"
   ]
  },
  {
   "cell_type": "code",
   "execution_count": 25,
   "metadata": {
    "collapsed": false
   },
   "outputs": [
    {
     "name": "stdout",
     "output_type": "stream",
     "text": [
      "Katerina Ivanovna; Pyotr Petrovitch; Pulcheria Alexandrovna; Avdotya\n",
      "Romanovna; Rodion Romanovitch; Marfa Petrovna; Sofya Semyonovna; old\n",
      "woman; Project Gutenberg-tm; Porfiry Petrovitch; Amalia Ivanovna;\n",
      "great deal; Nikodim Fomitch; young man; Ilya Petrovitch; n't know;\n",
      "Project Gutenberg; Dmitri Prokofitch; Andrey Semyonovitch; Hay Market\n"
     ]
    }
   ],
   "source": [
    "text.collocations()"
   ]
  },
  {
   "cell_type": "code",
   "execution_count": 26,
   "metadata": {
    "collapsed": false
   },
   "outputs": [
    {
     "data": {
      "text/plain": [
       "5338"
      ]
     },
     "execution_count": 26,
     "metadata": {},
     "output_type": "execute_result"
    }
   ],
   "source": [
    "raw.find('PART I')"
   ]
  },
  {
   "cell_type": "code",
   "execution_count": 27,
   "metadata": {
    "collapsed": false
   },
   "outputs": [
    {
     "data": {
      "text/plain": [
       "[u'BBC',\n",
       " u'NEWS',\n",
       " u'|',\n",
       " u'Health',\n",
       " u'|',\n",
       " u'Blondes',\n",
       " u\"'to\",\n",
       " u'die',\n",
       " u'out',\n",
       " u'in']"
      ]
     },
     "execution_count": 27,
     "metadata": {},
     "output_type": "execute_result"
    }
   ],
   "source": [
    "from bs4 import BeautifulSoup \n",
    "url = \"http://news.bbc.co.uk/2/hi/health/2284783.stm\"\n",
    "html = urllib2.urlopen(url).read().decode('utf8')\n",
    "raw = BeautifulSoup(html).get_text()\n",
    "tokens = word_tokenize(raw)\n",
    "tokens[0:10]"
   ]
  },
  {
   "cell_type": "code",
   "execution_count": 28,
   "metadata": {
    "collapsed": false
   },
   "outputs": [
    {
     "name": "stdout",
     "output_type": "stream",
     "text": [
      "Displaying 5 of 5 matches:\n",
      "hey say too few people now carry the gene for blondes to last beyond the next \n",
      "blonde hair is caused by a recessive gene . In order for a child to have blond\n",
      " have blonde hair , it must have the gene on both sides of the family in the g\n",
      "ere is a disadvantage of having that gene or by chance . They do n't disappear\n",
      "des would disappear is if having the gene was a disadvantage and I do not thin\n"
     ]
    }
   ],
   "source": [
    "tokens = tokens[110:390]\n",
    "text = nltk.Text(tokens)\n",
    "text.concordance('gene')"
   ]
  },
  {
   "cell_type": "code",
   "execution_count": 29,
   "metadata": {
    "collapsed": true
   },
   "outputs": [],
   "source": [
    "#REGEX"
   ]
  },
  {
   "cell_type": "code",
   "execution_count": 31,
   "metadata": {
    "collapsed": false
   },
   "outputs": [],
   "source": [
    "import re\n",
    "wordlist = [w for w in nltk.corpus.words.words('en') if w.islower()]"
   ]
  },
  {
   "cell_type": "code",
   "execution_count": 32,
   "metadata": {
    "collapsed": false
   },
   "outputs": [
    {
     "data": {
      "text/plain": [
       "[u'abaissed',\n",
       " u'abandoned',\n",
       " u'abased',\n",
       " u'abashed',\n",
       " u'abatised',\n",
       " u'abed',\n",
       " u'aborted',\n",
       " u'abridged',\n",
       " u'abscessed',\n",
       " u'absconded']"
      ]
     },
     "execution_count": 32,
     "metadata": {},
     "output_type": "execute_result"
    }
   ],
   "source": [
    "[w for w in wordlist if re.search('ed$', w)][0:10]"
   ]
  },
  {
   "cell_type": "code",
   "execution_count": 33,
   "metadata": {
    "collapsed": false
   },
   "outputs": [
    {
     "data": {
      "text/plain": [
       "[u'abjectly',\n",
       " u'adjuster',\n",
       " u'dejected',\n",
       " u'dejectly',\n",
       " u'injector',\n",
       " u'majestic',\n",
       " u'objectee',\n",
       " u'objector',\n",
       " u'rejecter',\n",
       " u'rejector']"
      ]
     },
     "execution_count": 33,
     "metadata": {},
     "output_type": "execute_result"
    }
   ],
   "source": [
    "[w for w in wordlist if re.search('^..j..t..$',w)][0:10]"
   ]
  },
  {
   "cell_type": "code",
   "execution_count": 34,
   "metadata": {
    "collapsed": false
   },
   "outputs": [
    {
     "data": {
      "text/plain": [
       "[u'gold', u'golf', u'hold', u'hole']"
      ]
     },
     "execution_count": 34,
     "metadata": {},
     "output_type": "execute_result"
    }
   ],
   "source": [
    "[w for w in wordlist if re.search('^[ghi][mno][jlk][def]$',w)]"
   ]
  },
  {
   "cell_type": "code",
   "execution_count": 35,
   "metadata": {
    "collapsed": false
   },
   "outputs": [
    {
     "data": {
      "text/plain": [
       "[u'miiiiiiiiiiiiinnnnnnnnnnneeeeeeeeee',\n",
       " u'miiiiiinnnnnnnnnneeeeeeee',\n",
       " u'mine',\n",
       " u'mmmmmmmmiiiiiiiiinnnnnnnnneeeeeeee']"
      ]
     },
     "execution_count": 35,
     "metadata": {},
     "output_type": "execute_result"
    }
   ],
   "source": [
    "chat_words = sorted(set(w for w in nltk.corpus.nps_chat.words()))\n",
    "\n",
    "[w for w in chat_words if re.search('^m+i+n+e+$', w)]"
   ]
  },
  {
   "cell_type": "code",
   "execution_count": 36,
   "metadata": {
    "collapsed": false
   },
   "outputs": [
    {
     "data": {
      "text/plain": [
       "[u'0.0085',\n",
       " u'0.05',\n",
       " u'0.1',\n",
       " u'0.16',\n",
       " u'0.2',\n",
       " u'0.25',\n",
       " u'0.28',\n",
       " u'0.3',\n",
       " u'0.4',\n",
       " u'0.5']"
      ]
     },
     "execution_count": 36,
     "metadata": {},
     "output_type": "execute_result"
    }
   ],
   "source": [
    "wsj = sorted(set(nltk.corpus.treebank.words()))\n",
    "\n",
    "[w for w in wsj if re.search('^[0-9]+\\.[0-9]+$', w)][0:10]"
   ]
  },
  {
   "cell_type": "code",
   "execution_count": 37,
   "metadata": {
    "collapsed": false
   },
   "outputs": [
    {
     "data": {
      "text/plain": [
       "[u'C$', u'US$']"
      ]
     },
     "execution_count": 37,
     "metadata": {},
     "output_type": "execute_result"
    }
   ],
   "source": [
    "[w for w in wsj if re.search('^[A-Z]+\\$$', w)]"
   ]
  },
  {
   "cell_type": "code",
   "execution_count": 38,
   "metadata": {
    "collapsed": false
   },
   "outputs": [
    {
     "data": {
      "text/plain": [
       "[u'1614',\n",
       " u'1637',\n",
       " u'1787',\n",
       " u'1901',\n",
       " u'1903',\n",
       " u'1917',\n",
       " u'1925',\n",
       " u'1929',\n",
       " u'1933',\n",
       " u'1934']"
      ]
     },
     "execution_count": 38,
     "metadata": {},
     "output_type": "execute_result"
    }
   ],
   "source": [
    "[w for w in wsj if re.search('^[0-9]{4}$', w)][0:10]"
   ]
  },
  {
   "cell_type": "code",
   "execution_count": 39,
   "metadata": {
    "collapsed": false
   },
   "outputs": [
    {
     "data": {
      "text/plain": [
       "[u'10-day',\n",
       " u'10-lap',\n",
       " u'10-year',\n",
       " u'100-share',\n",
       " u'12-point',\n",
       " u'12-year',\n",
       " u'14-hour',\n",
       " u'15-day',\n",
       " u'150-point',\n",
       " u'190-point']"
      ]
     },
     "execution_count": 39,
     "metadata": {},
     "output_type": "execute_result"
    }
   ],
   "source": [
    "[w for w in wsj if re.search('^[0-9]+-[a-z]{3,5}$', w)][0:10]"
   ]
  },
  {
   "cell_type": "code",
   "execution_count": 40,
   "metadata": {
    "collapsed": false
   },
   "outputs": [
    {
     "data": {
      "text/plain": [
       "[u'black-and-white',\n",
       " u'bread-and-butter',\n",
       " u'father-in-law',\n",
       " u'machine-gun-toting',\n",
       " u'savings-and-loan']"
      ]
     },
     "execution_count": 40,
     "metadata": {},
     "output_type": "execute_result"
    }
   ],
   "source": [
    "[w for w in wsj if re.search('^[a-z]{5,}-[a-z]{2,3}-[a-z]{,6}$', w)][0:10]"
   ]
  },
  {
   "cell_type": "code",
   "execution_count": 41,
   "metadata": {
    "collapsed": false
   },
   "outputs": [
    {
     "data": {
      "text/plain": [
       "[u'62%-owned',\n",
       " u'Absorbed',\n",
       " u'According',\n",
       " u'Adopting',\n",
       " u'Advanced',\n",
       " u'Advancing',\n",
       " u'Alfred',\n",
       " u'Allied',\n",
       " u'Annualized',\n",
       " u'Anything']"
      ]
     },
     "execution_count": 41,
     "metadata": {},
     "output_type": "execute_result"
    }
   ],
   "source": [
    "[w for w in wsj if re.search('(ed|ing)$', w)][0:10]"
   ]
  },
  {
   "cell_type": "code",
   "execution_count": 42,
   "metadata": {
    "collapsed": false
   },
   "outputs": [
    {
     "data": {
      "text/plain": [
       "[(u'io', 549),\n",
       " (u'ea', 476),\n",
       " (u'ie', 331),\n",
       " (u'ou', 329),\n",
       " (u'ai', 261),\n",
       " (u'ia', 253),\n",
       " (u'ee', 217),\n",
       " (u'oo', 174),\n",
       " (u'ua', 109),\n",
       " (u'au', 106),\n",
       " (u'ue', 105),\n",
       " (u'ui', 95)]"
      ]
     },
     "execution_count": 42,
     "metadata": {},
     "output_type": "execute_result"
    }
   ],
   "source": [
    "fd = nltk.FreqDist(vs for word in wsj \n",
    "                      for vs in re.findall(r'[aeiou]{2,}', word))\n",
    "fd.most_common(12)"
   ]
  },
  {
   "cell_type": "code",
   "execution_count": 43,
   "metadata": {
    "collapsed": true
   },
   "outputs": [],
   "source": [
    "#Normalizing Text\n"
   ]
  },
  {
   "cell_type": "code",
   "execution_count": 44,
   "metadata": {
    "collapsed": true
   },
   "outputs": [],
   "source": [
    "porter = nltk.PorterStemmer()\n",
    "lancaster = nltk.LancasterStemmer()"
   ]
  },
  {
   "cell_type": "code",
   "execution_count": 45,
   "metadata": {
    "collapsed": false
   },
   "outputs": [
    {
     "data": {
      "text/plain": [
       "[u'UK',\n",
       " u'Blond',\n",
       " u\"'to\",\n",
       " u'die',\n",
       " u'out',\n",
       " u'in',\n",
       " u'200',\n",
       " u\"years'\",\n",
       " u'Scientist',\n",
       " u'believ']"
      ]
     },
     "execution_count": 45,
     "metadata": {},
     "output_type": "execute_result"
    }
   ],
   "source": [
    "[porter.stem(t) for t in tokens][0:10]"
   ]
  },
  {
   "cell_type": "code",
   "execution_count": 46,
   "metadata": {
    "collapsed": false
   },
   "outputs": [
    {
     "data": {
      "text/plain": [
       "[u'uk',\n",
       " u'blond',\n",
       " u\"'to\",\n",
       " u'die',\n",
       " u'out',\n",
       " u'in',\n",
       " u'200',\n",
       " u\"years'\",\n",
       " u'sci',\n",
       " u'believ']"
      ]
     },
     "execution_count": 46,
     "metadata": {},
     "output_type": "execute_result"
    }
   ],
   "source": [
    "[lancaster.stem(t) for t in tokens][0:10]"
   ]
  },
  {
   "cell_type": "code",
   "execution_count": 47,
   "metadata": {
    "collapsed": false
   },
   "outputs": [
    {
     "data": {
      "text/plain": [
       "[u'UK',\n",
       " u'Blondes',\n",
       " u\"'to\",\n",
       " u'die',\n",
       " u'out',\n",
       " u'in',\n",
       " u'200',\n",
       " u\"years'\",\n",
       " u'Scientists',\n",
       " u'believe']"
      ]
     },
     "execution_count": 47,
     "metadata": {},
     "output_type": "execute_result"
    }
   ],
   "source": [
    "wnl = nltk.WordNetLemmatizer()\n",
    "[wnl.lemmatize(t) for t in tokens][0:10]"
   ]
  },
  {
   "cell_type": "code",
   "execution_count": 48,
   "metadata": {
    "collapsed": false
   },
   "outputs": [
    {
     "data": {
      "text/plain": [
       "['That', 'U.S.A.', 'poster-print', 'costs', '$12.40', '...']"
      ]
     },
     "execution_count": 48,
     "metadata": {},
     "output_type": "execute_result"
    }
   ],
   "source": [
    "text = 'That U.S.A. poster-print costs $12.40...'\n",
    "pattern = r'''(?x)    # set flag to allow verbose regexps\n",
    "     ([A-Z]\\.)+        # abbreviations, e.g. U.S.A.\n",
    "   | \\w+(-\\w+)*        # words with optional internal hyphens\n",
    "   | \\$?\\d+(\\.\\d+)?%?  # currency and percentages, e.g. $12.40, 82%\n",
    "   | \\.\\.\\.            # ellipsis\n",
    "   | [][.,;\"'?():-_`]  # these are separate tokens; includes ], [\n",
    "'''\n",
    "nltk.regexp_tokenize(text, pattern)"
   ]
  },
  {
   "cell_type": "code",
   "execution_count": 49,
   "metadata": {
    "collapsed": true
   },
   "outputs": [],
   "source": [
    "#Tagging"
   ]
  },
  {
   "cell_type": "code",
   "execution_count": 50,
   "metadata": {
    "collapsed": false
   },
   "outputs": [
    {
     "data": {
      "text/plain": [
       "[('They', 'PRP'),\n",
       " ('refuse', 'VBP'),\n",
       " ('to', 'TO'),\n",
       " ('permit', 'VB'),\n",
       " ('us', 'PRP'),\n",
       " ('to', 'TO'),\n",
       " ('obtain', 'VB'),\n",
       " ('the', 'DT'),\n",
       " ('refuse', 'NN'),\n",
       " ('permit', 'NN')]"
      ]
     },
     "execution_count": 50,
     "metadata": {},
     "output_type": "execute_result"
    }
   ],
   "source": [
    "text = word_tokenize(\"They refuse to permit us to obtain the refuse permit\")\n",
    "nltk.pos_tag(text)"
   ]
  },
  {
   "cell_type": "code",
   "execution_count": 51,
   "metadata": {
    "collapsed": false
   },
   "outputs": [
    {
     "name": "stdout",
     "output_type": "stream",
     "text": [
      "man time day year car moment world family house country child boy\n",
      "state job way war girl place word work\n"
     ]
    }
   ],
   "source": [
    "# Word similarity using a pre-tagged text\n",
    "text = nltk.Text(word.lower() for word in nltk.corpus.brown.words())\n",
    "text.similar('woman')"
   ]
  },
  {
   "cell_type": "code",
   "execution_count": 52,
   "metadata": {
    "collapsed": false
   },
   "outputs": [
    {
     "data": {
      "text/plain": [
       "[(u'The', u'AT'),\n",
       " (u'Fulton', u'NP-TL'),\n",
       " (u'County', u'NN-TL'),\n",
       " (u'Grand', u'JJ-TL'),\n",
       " (u'Jury', u'NN-TL'),\n",
       " (u'said', u'VBD'),\n",
       " (u'Friday', u'NR'),\n",
       " (u'an', u'AT'),\n",
       " (u'investigation', u'NN'),\n",
       " (u'of', u'IN')]"
      ]
     },
     "execution_count": 52,
     "metadata": {},
     "output_type": "execute_result"
    }
   ],
   "source": [
    "nltk.corpus.brown.tagged_words()[0:10]"
   ]
  },
  {
   "cell_type": "code",
   "execution_count": 53,
   "metadata": {
    "collapsed": false
   },
   "outputs": [
    {
     "data": {
      "text/plain": [
       "[(u'The', u'DET'),\n",
       " (u'Fulton', u'NOUN'),\n",
       " (u'County', u'NOUN'),\n",
       " (u'Grand', u'ADJ'),\n",
       " (u'Jury', u'NOUN'),\n",
       " (u'said', u'VERB'),\n",
       " (u'Friday', u'NOUN'),\n",
       " (u'an', u'DET'),\n",
       " (u'investigation', u'NOUN'),\n",
       " (u'of', u'ADP')]"
      ]
     },
     "execution_count": 53,
     "metadata": {},
     "output_type": "execute_result"
    }
   ],
   "source": [
    "nltk.corpus.brown.tagged_words(tagset='universal')[0:10]"
   ]
  },
  {
   "cell_type": "code",
   "execution_count": 54,
   "metadata": {
    "collapsed": false
   },
   "outputs": [
    {
     "data": {
      "text/plain": [
       "[(u'NOUN', 30640),\n",
       " (u'VERB', 14399),\n",
       " (u'ADP', 12355),\n",
       " (u'.', 11928),\n",
       " (u'DET', 11389),\n",
       " (u'ADJ', 6706),\n",
       " (u'ADV', 3349),\n",
       " (u'CONJ', 2717),\n",
       " (u'PRON', 2535),\n",
       " (u'PRT', 2264),\n",
       " (u'NUM', 2166),\n",
       " (u'X', 106)]"
      ]
     },
     "execution_count": 54,
     "metadata": {},
     "output_type": "execute_result"
    }
   ],
   "source": [
    "from nltk.corpus import brown\n",
    "brown_news_tagged = brown.tagged_words(categories = 'news', tagset = 'universal')\n",
    "\n",
    "tag_fd = nltk.FreqDist(tag for (word,tag) in brown_news_tagged)\n",
    "tag_fd.most_common()"
   ]
  },
  {
   "cell_type": "code",
   "execution_count": 56,
   "metadata": {
    "collapsed": false
   },
   "outputs": [
    {
     "name": "stdout",
     "output_type": "stream",
     "text": [
      "VERB  ADV  ADP  ADJ    .  PRT \n",
      "  37    8    7    6    4    2 \n"
     ]
    }
   ],
   "source": [
    "brown_lrnd_tagged = brown.tagged_words(categories = 'learned', tagset = 'universal')\n",
    "tags = [b[1] for (a,b) in nltk.bigrams(brown_lrnd_tagged) if a[0] == 'often']\n",
    "fd = nltk.FreqDist(tags)\n",
    "fd.tabulate()"
   ]
  },
  {
   "cell_type": "code",
   "execution_count": 57,
   "metadata": {
    "collapsed": true
   },
   "outputs": [],
   "source": [
    "#to tag\n",
    "\n",
    "from nltk.corpus import brown \n",
    "brown_tagged_sents = brown.tagged_sents(categories = 'news')\n",
    "brown_sents = brown.sents(categories = 'news')"
   ]
  },
  {
   "cell_type": "code",
   "execution_count": 59,
   "metadata": {
    "collapsed": false
   },
   "outputs": [
    {
     "data": {
      "text/plain": [
       "[('I', 'NN'),\n",
       " ('do', 'NN'),\n",
       " ('not', 'NN'),\n",
       " ('like', 'NN'),\n",
       " ('green', 'NN'),\n",
       " ('eggs', 'NN'),\n",
       " ('and', 'NN'),\n",
       " ('ham', 'NN'),\n",
       " (',', 'NN'),\n",
       " ('I', 'NN'),\n",
       " ('do', 'NN'),\n",
       " ('not', 'NN'),\n",
       " ('like', 'NN'),\n",
       " ('them', 'NN'),\n",
       " ('Sam', 'NN'),\n",
       " ('I', 'NN'),\n",
       " ('am', 'NN'),\n",
       " ('!', 'NN')]"
      ]
     },
     "execution_count": 59,
     "metadata": {},
     "output_type": "execute_result"
    }
   ],
   "source": [
    "tags = [tag for (word,tag) in brown.tagged_words(categories = 'news')]\n",
    "nltk.FreqDist(tags).max()\n",
    "raw = 'I do not like green eggs and ham, I do not like them Sam I am!'\n",
    "tokens = word_tokenize(raw)\n",
    "default_tagger = nltk.DefaultTagger('NN')\n",
    "default_tagger.tag(tokens)"
   ]
  },
  {
   "cell_type": "code",
   "execution_count": 60,
   "metadata": {
    "collapsed": false
   },
   "outputs": [
    {
     "data": {
      "text/plain": [
       "0.13089484257215028"
      ]
     },
     "execution_count": 60,
     "metadata": {},
     "output_type": "execute_result"
    }
   ],
   "source": [
    "default_tagger.evaluate(brown_tagged_sents)"
   ]
  },
  {
   "cell_type": "code",
   "execution_count": 61,
   "metadata": {
    "collapsed": false
   },
   "outputs": [
    {
     "data": {
      "text/plain": [
       "[(u'Various', u'JJ'),\n",
       " (u'of', u'IN'),\n",
       " (u'the', u'AT'),\n",
       " (u'apartments', u'NNS'),\n",
       " (u'are', u'BER'),\n",
       " (u'of', u'IN'),\n",
       " (u'the', u'AT'),\n",
       " (u'terrace', u'NN'),\n",
       " (u'type', u'NN'),\n",
       " (u',', u','),\n",
       " (u'being', u'BEG'),\n",
       " (u'on', u'IN'),\n",
       " (u'the', u'AT'),\n",
       " (u'ground', u'NN'),\n",
       " (u'floor', u'NN'),\n",
       " (u'so', u'QL'),\n",
       " (u'that', u'CS'),\n",
       " (u'entrance', u'NN'),\n",
       " (u'is', u'BEZ'),\n",
       " (u'direct', u'JJ'),\n",
       " (u'.', u'.')]"
      ]
     },
     "execution_count": 61,
     "metadata": {},
     "output_type": "execute_result"
    }
   ],
   "source": [
    "# Training a unigram tagger\n",
    "from nltk.corpus import brown\n",
    "brown_tagged_sents = brown.tagged_sents(categories='news')\n",
    "brown_sents = brown.sents(categories='news')\n",
    "unigram_tagger = nltk.UnigramTagger(brown_tagged_sents)\n",
    "unigram_tagger.tag(brown_sents[2007])"
   ]
  },
  {
   "cell_type": "code",
   "execution_count": 62,
   "metadata": {
    "collapsed": false
   },
   "outputs": [
    {
     "data": {
      "text/plain": [
       "0.9349006503968017"
      ]
     },
     "execution_count": 62,
     "metadata": {},
     "output_type": "execute_result"
    }
   ],
   "source": [
    "unigram_tagger.evaluate(brown_tagged_sents)"
   ]
  },
  {
   "cell_type": "code",
   "execution_count": 63,
   "metadata": {
    "collapsed": false
   },
   "outputs": [
    {
     "data": {
      "text/plain": [
       "0.9730592517453309"
      ]
     },
     "execution_count": 63,
     "metadata": {},
     "output_type": "execute_result"
    }
   ],
   "source": [
    "t0 = nltk.DefaultTagger('NN')\n",
    "t1 = nltk.UnigramTagger(brown_tagged_sents, backoff=t0)\n",
    "t2 = nltk.BigramTagger(brown_tagged_sents, backoff=t1)\n",
    "t2.evaluate(brown_tagged_sents)"
   ]
  },
  {
   "cell_type": "code",
   "execution_count": 64,
   "metadata": {
    "collapsed": true
   },
   "outputs": [],
   "source": [
    "#Classifying Text"
   ]
  },
  {
   "cell_type": "code",
   "execution_count": 65,
   "metadata": {
    "collapsed": false
   },
   "outputs": [
    {
     "data": {
      "text/plain": [
       "{'last_letter': 'y'}"
      ]
     },
     "execution_count": 65,
     "metadata": {},
     "output_type": "execute_result"
    }
   ],
   "source": [
    "def gender_features(word):\n",
    "    return {'last_letter': word[-1]}\n",
    "gender_features('Chinmay')"
   ]
  },
  {
   "cell_type": "code",
   "execution_count": 67,
   "metadata": {
    "collapsed": false
   },
   "outputs": [],
   "source": [
    "from nltk.corpus import names\n",
    "labeled_names = ([(name,'male') for name in names.words('male.txt')] + \n",
    "                [(name,'female') for name in names.words('female.txt')])\n",
    "import random\n",
    "random.shuffle(labeled_names)"
   ]
  },
  {
   "cell_type": "code",
   "execution_count": 70,
   "metadata": {
    "collapsed": false
   },
   "outputs": [
    {
     "data": {
      "text/plain": [
       "[(u'Derrol', 'male'),\n",
       " (u'Matilda', 'female'),\n",
       " (u'Jojo', 'female'),\n",
       " (u'Angus', 'male'),\n",
       " (u'Caressa', 'female'),\n",
       " (u'Adaline', 'female'),\n",
       " (u'Charles', 'male'),\n",
       " (u'Jaquelyn', 'female'),\n",
       " (u'Joletta', 'female'),\n",
       " (u'Lorraine', 'female'),\n",
       " (u'Sussi', 'female'),\n",
       " (u'Alta', 'female'),\n",
       " (u'Torrey', 'male'),\n",
       " (u'Amelina', 'female'),\n",
       " (u'Tracy', 'female'),\n",
       " (u'Harri', 'female'),\n",
       " (u'Wini', 'female'),\n",
       " (u'Tabby', 'female'),\n",
       " (u'Sarette', 'female'),\n",
       " (u'Dulcie', 'female'),\n",
       " (u'Madelle', 'female'),\n",
       " (u'Michal', 'male'),\n",
       " (u'Sada', 'female'),\n",
       " (u'Erika', 'female'),\n",
       " (u'Zahara', 'female'),\n",
       " (u'Ulises', 'male'),\n",
       " (u'Teressa', 'female'),\n",
       " (u'Penn', 'male'),\n",
       " (u'Padraig', 'male'),\n",
       " (u'Aileen', 'female'),\n",
       " (u'Alena', 'female'),\n",
       " (u'Dina', 'female'),\n",
       " (u'Vinita', 'female'),\n",
       " (u'Raphaela', 'female'),\n",
       " (u'Clinton', 'male'),\n",
       " (u'Biddy', 'female'),\n",
       " (u'Hunter', 'male'),\n",
       " (u'Jeanne', 'female'),\n",
       " (u'Ninette', 'female'),\n",
       " (u'Tamarah', 'female'),\n",
       " (u'Elvina', 'female'),\n",
       " (u'Baron', 'male'),\n",
       " (u'Andrey', 'male'),\n",
       " (u'Kimmi', 'female'),\n",
       " (u'Willi', 'female'),\n",
       " (u'Adelle', 'female'),\n",
       " (u'Rhody', 'female'),\n",
       " (u'Deva', 'female'),\n",
       " (u'Chad', 'male'),\n",
       " (u'Estrellita', 'female'),\n",
       " (u'Fazeel', 'male'),\n",
       " (u'Dodie', 'female'),\n",
       " (u'Jerrome', 'male'),\n",
       " (u'Zelig', 'male'),\n",
       " (u'Kimbra', 'female'),\n",
       " (u'Lynnell', 'female'),\n",
       " (u'Domenic', 'male'),\n",
       " (u'Thayne', 'male'),\n",
       " (u'Bronson', 'male'),\n",
       " (u'Monte', 'male'),\n",
       " (u'Lilly', 'female'),\n",
       " (u'Norry', 'female'),\n",
       " (u'Casie', 'female'),\n",
       " (u'Briteny', 'female'),\n",
       " (u'Cyril', 'male'),\n",
       " (u'Rochester', 'male'),\n",
       " (u'Kalil', 'male'),\n",
       " (u'Brigitta', 'female'),\n",
       " (u'Nicki', 'female'),\n",
       " (u'Stevana', 'female'),\n",
       " (u'Meira', 'female'),\n",
       " (u'Courtney', 'male'),\n",
       " (u'Davoud', 'male'),\n",
       " (u'Elke', 'female'),\n",
       " (u'Nicolette', 'female'),\n",
       " (u'Uta', 'female'),\n",
       " (u'Hurley', 'male'),\n",
       " (u'Margaret', 'female'),\n",
       " (u'Merlin', 'male'),\n",
       " (u'Claire', 'male'),\n",
       " (u'Peggie', 'female'),\n",
       " (u'Lucius', 'male'),\n",
       " (u'Milo', 'male'),\n",
       " (u'Tarrant', 'male'),\n",
       " (u'Irvin', 'male'),\n",
       " (u'Ophelie', 'female'),\n",
       " (u'Olenka', 'female'),\n",
       " (u'Vera', 'female'),\n",
       " (u'Gordan', 'male'),\n",
       " (u'Carmelia', 'female'),\n",
       " (u'Garwood', 'male'),\n",
       " (u'Ingamar', 'male'),\n",
       " (u'Bernardina', 'female'),\n",
       " (u'Quintilla', 'female'),\n",
       " (u'Jennie', 'female'),\n",
       " (u'Bunny', 'female'),\n",
       " (u'Skip', 'male'),\n",
       " (u'Leola', 'female'),\n",
       " (u'Brendan', 'male'),\n",
       " (u'Lotta', 'female'),\n",
       " (u'Sibeal', 'female'),\n",
       " (u'Helen', 'female'),\n",
       " (u'Tansy', 'female'),\n",
       " (u'Kathi', 'female'),\n",
       " (u'Nichol', 'female'),\n",
       " (u'Lambert', 'male'),\n",
       " (u'Emilie', 'female'),\n",
       " (u'Eunice', 'female'),\n",
       " (u'Hale', 'male'),\n",
       " (u'Odelinda', 'female'),\n",
       " (u'Ingram', 'male'),\n",
       " (u'Terrel', 'male'),\n",
       " (u'Flem', 'male'),\n",
       " (u'Son', 'male'),\n",
       " (u'Kori', 'female'),\n",
       " (u'Winonah', 'female'),\n",
       " (u'Kendre', 'female'),\n",
       " (u'Datha', 'female'),\n",
       " (u'Gwyneth', 'female'),\n",
       " (u'Sapphira', 'female'),\n",
       " (u'Merlina', 'female'),\n",
       " (u'Cybelle', 'female'),\n",
       " (u'Wylma', 'female'),\n",
       " (u'Eyde', 'female'),\n",
       " (u'Silvester', 'male'),\n",
       " (u'Gertrude', 'female'),\n",
       " (u'Arlen', 'female'),\n",
       " (u'Korie', 'female'),\n",
       " (u'Derrek', 'male'),\n",
       " (u'Gunter', 'male'),\n",
       " (u'Gillie', 'female'),\n",
       " (u'Pincas', 'male'),\n",
       " (u'Robinia', 'female'),\n",
       " (u'Regina', 'female'),\n",
       " (u'Vivien', 'female'),\n",
       " (u'Nerte', 'female'),\n",
       " (u'Aharon', 'male'),\n",
       " (u'Cathyleen', 'female'),\n",
       " (u'Cordula', 'female'),\n",
       " (u'Gaven', 'male'),\n",
       " (u'Tracy', 'male'),\n",
       " (u'Er', 'male'),\n",
       " (u'Veronica', 'female'),\n",
       " (u'Moise', 'male'),\n",
       " (u'Malkah', 'female'),\n",
       " (u'Almire', 'female'),\n",
       " (u'Davida', 'female'),\n",
       " (u'Obadias', 'male'),\n",
       " (u'Jany', 'female'),\n",
       " (u'Shir', 'female'),\n",
       " (u'Ursula', 'female'),\n",
       " (u'Meggan', 'female'),\n",
       " (u'Jo', 'female'),\n",
       " (u'Keil', 'male'),\n",
       " (u'Cristi', 'female'),\n",
       " (u'Aloysius', 'male'),\n",
       " (u'Valene', 'female'),\n",
       " (u'Herta', 'female'),\n",
       " (u'Dorine', 'female'),\n",
       " (u'Harley', 'female'),\n",
       " (u'Janine', 'female'),\n",
       " (u'Wain', 'male'),\n",
       " (u'Colbert', 'male'),\n",
       " (u'Suzanne', 'female'),\n",
       " (u'Marne', 'female'),\n",
       " (u'Renata', 'female'),\n",
       " (u'Dell', 'female'),\n",
       " (u'Charil', 'female'),\n",
       " (u'Astrix', 'female'),\n",
       " (u'Rad', 'male'),\n",
       " (u'Penni', 'female'),\n",
       " (u'Lorrie', 'female'),\n",
       " (u'Cordy', 'female'),\n",
       " (u'Robin', 'male'),\n",
       " (u'Alanah', 'female'),\n",
       " (u'Rogers', 'male'),\n",
       " (u'Forster', 'male'),\n",
       " (u'Lenora', 'female'),\n",
       " (u'Athena', 'female'),\n",
       " (u'Elmore', 'male'),\n",
       " (u'Raine', 'female'),\n",
       " (u'Kimberli', 'female'),\n",
       " (u'Stacee', 'female'),\n",
       " (u'Jeniece', 'female'),\n",
       " (u'Toma', 'female'),\n",
       " (u'Joye', 'female'),\n",
       " (u'Flint', 'male'),\n",
       " (u'Deborah', 'female'),\n",
       " (u'Salmon', 'male'),\n",
       " (u'Midge', 'female'),\n",
       " (u'Sandro', 'male'),\n",
       " (u'Aldric', 'male'),\n",
       " (u'Vachel', 'male'),\n",
       " (u'Katerine', 'female'),\n",
       " (u'Allen', 'male'),\n",
       " (u'Kaye', 'female'),\n",
       " (u'Rene', 'female'),\n",
       " (u'Blancha', 'female'),\n",
       " (u'Michel', 'male'),\n",
       " (u'Paulette', 'female'),\n",
       " (u'Henrietta', 'female'),\n",
       " (u'Jillana', 'female'),\n",
       " (u'Barnebas', 'male'),\n",
       " (u'Carly', 'female'),\n",
       " (u'Urson', 'male'),\n",
       " (u'Evelina', 'female'),\n",
       " (u'Giacinta', 'female'),\n",
       " (u'Russ', 'male'),\n",
       " (u'Cecilla', 'female'),\n",
       " (u'Terri', 'male'),\n",
       " (u'Dora', 'female'),\n",
       " (u'Elric', 'male'),\n",
       " (u'Shandie', 'female'),\n",
       " (u'Garry', 'male'),\n",
       " (u'Kirby', 'female'),\n",
       " (u'Brodie', 'male'),\n",
       " (u'Danyelle', 'female'),\n",
       " (u'Anna-Diane', 'female'),\n",
       " (u'Mellicent', 'female'),\n",
       " (u'Jonah', 'male'),\n",
       " (u'Leisha', 'female'),\n",
       " (u'Genvieve', 'female'),\n",
       " (u'Shayne', 'female'),\n",
       " (u'Roby', 'female'),\n",
       " (u'Cecil', 'male'),\n",
       " (u'Maxwell', 'male'),\n",
       " (u'Sherline', 'female'),\n",
       " (u'Pascal', 'male'),\n",
       " (u'Merrie', 'female'),\n",
       " (u'Ingemar', 'male'),\n",
       " (u'Dallas', 'female'),\n",
       " (u'Wolfgang', 'male'),\n",
       " (u'Geneva', 'female'),\n",
       " (u'Yancy', 'male'),\n",
       " (u'Freddi', 'female'),\n",
       " (u'Vilma', 'female'),\n",
       " (u'Axel', 'male'),\n",
       " (u'Javier', 'male'),\n",
       " (u'Harrison', 'male'),\n",
       " (u'Randi', 'female'),\n",
       " (u'Ty', 'male'),\n",
       " (u'Debbi', 'female'),\n",
       " (u'Locke', 'male'),\n",
       " (u'Thatcher', 'male'),\n",
       " (u'Woody', 'male'),\n",
       " (u'Iolande', 'female'),\n",
       " (u'Joann', 'female'),\n",
       " (u'Queada', 'female'),\n",
       " (u'Annalisa', 'female'),\n",
       " (u'Aylmer', 'male'),\n",
       " (u'Elysee', 'female'),\n",
       " (u'Devan', 'female'),\n",
       " (u'Felicio', 'male'),\n",
       " (u'Georgina', 'female'),\n",
       " (u'Ajay', 'male'),\n",
       " (u'Cybel', 'female'),\n",
       " (u'Bonni', 'female'),\n",
       " (u'Betty', 'female'),\n",
       " (u'Adolphe', 'male'),\n",
       " (u'Katine', 'female'),\n",
       " (u'Valentine', 'female'),\n",
       " (u'Alvera', 'female'),\n",
       " (u'Inglebert', 'male'),\n",
       " (u'Jervis', 'male'),\n",
       " (u'Emera', 'female'),\n",
       " (u'Myrna', 'female'),\n",
       " (u'Fernando', 'male'),\n",
       " (u'Darin', 'male'),\n",
       " (u'Kirbie', 'female'),\n",
       " (u'Parry', 'male'),\n",
       " (u'Myron', 'male'),\n",
       " (u'Dorri', 'female'),\n",
       " (u'Teodor', 'male'),\n",
       " (u'Gita', 'female'),\n",
       " (u'Hewett', 'male'),\n",
       " (u'Sharla', 'female'),\n",
       " (u'Bertine', 'female'),\n",
       " (u'Gabbie', 'female'),\n",
       " (u'Parnell', 'male'),\n",
       " (u'Koo', 'female'),\n",
       " (u'Cornie', 'female'),\n",
       " (u'Merv', 'male'),\n",
       " (u'Jania', 'female'),\n",
       " (u'Madelina', 'female'),\n",
       " (u'Harrietta', 'female'),\n",
       " (u'Deryl', 'male'),\n",
       " (u'Lurleen', 'female'),\n",
       " (u'Emmalynne', 'female'),\n",
       " (u'Melony', 'female'),\n",
       " (u'Sanson', 'male'),\n",
       " (u'Baird', 'male'),\n",
       " (u'Imojean', 'female'),\n",
       " (u'Karee', 'female'),\n",
       " (u'Christie', 'male'),\n",
       " (u'Neddie', 'male'),\n",
       " (u'Bobette', 'female'),\n",
       " (u'Xavier', 'male'),\n",
       " (u'Blinnie', 'female'),\n",
       " (u'Abbey', 'male'),\n",
       " (u'Corabel', 'female'),\n",
       " (u'Juergen', 'male'),\n",
       " (u'Dru', 'male'),\n",
       " (u'Shimon', 'male'),\n",
       " (u'Ollie', 'female'),\n",
       " (u'Marleen', 'female'),\n",
       " (u'Abbie', 'female'),\n",
       " (u'Lyn', 'male'),\n",
       " (u'Sharai', 'female'),\n",
       " (u'Corry', 'female'),\n",
       " (u'Maren', 'female'),\n",
       " (u'Rainer', 'male'),\n",
       " (u'Rosmunda', 'female'),\n",
       " (u'Lyndy', 'female'),\n",
       " (u'Morton', 'male'),\n",
       " (u'Breena', 'female'),\n",
       " (u'Katrinka', 'female'),\n",
       " (u'Uri', 'male'),\n",
       " (u'Nana', 'female'),\n",
       " (u'Isidore', 'male'),\n",
       " (u'Casper', 'male'),\n",
       " (u'Florentia', 'female'),\n",
       " (u'Rebekkah', 'female'),\n",
       " (u'Hashim', 'male'),\n",
       " (u'Nikkie', 'female'),\n",
       " (u'Shelby', 'male'),\n",
       " (u'Sally', 'female'),\n",
       " (u'Natty', 'female'),\n",
       " (u'Shawna', 'female'),\n",
       " (u'Norris', 'male'),\n",
       " (u'Warde', 'male'),\n",
       " (u'Corwin', 'male'),\n",
       " (u'Jean-Luc', 'male'),\n",
       " (u'Emmy', 'male'),\n",
       " (u'Melva', 'female'),\n",
       " (u'Willey', 'male'),\n",
       " (u'Allie', 'male'),\n",
       " (u'Henrik', 'male'),\n",
       " (u'Joachim', 'male'),\n",
       " (u'Francisco', 'male'),\n",
       " (u'Marje', 'female'),\n",
       " (u'Coriss', 'female'),\n",
       " (u'Niki', 'female'),\n",
       " (u'Eberhard', 'male'),\n",
       " (u'Roslyn', 'female'),\n",
       " (u'Annabela', 'female'),\n",
       " (u'Scot', 'male'),\n",
       " (u'Harriette', 'female'),\n",
       " (u'Elliott', 'male'),\n",
       " (u'Charlena', 'female'),\n",
       " (u'Melisse', 'female'),\n",
       " (u'Bill', 'male'),\n",
       " (u'Dolorita', 'female'),\n",
       " (u'Dori', 'female'),\n",
       " (u'Gabbey', 'female'),\n",
       " (u'Gideon', 'male'),\n",
       " (u'Lethia', 'female'),\n",
       " (u'Romona', 'female'),\n",
       " (u'Ali', 'male'),\n",
       " (u'Susie', 'female'),\n",
       " (u'Cat', 'female'),\n",
       " (u'Gaston', 'male'),\n",
       " (u'Elayne', 'female'),\n",
       " (u'Davine', 'female'),\n",
       " (u'Nealon', 'male'),\n",
       " (u'Christalle', 'female'),\n",
       " (u'Maxie', 'male'),\n",
       " (u'Tiler', 'male'),\n",
       " (u'Gavra', 'female'),\n",
       " (u'Lacy', 'female'),\n",
       " (u'Melodee', 'female'),\n",
       " (u'Gwynne', 'female'),\n",
       " (u'Pacifica', 'female'),\n",
       " (u'Linnie', 'female'),\n",
       " (u'Abbot', 'male'),\n",
       " (u'Daisy', 'female'),\n",
       " (u'Tobi', 'female'),\n",
       " (u'Fifi', 'female'),\n",
       " (u'Joel', 'male'),\n",
       " (u'Suki', 'female'),\n",
       " (u'Tamarra', 'female'),\n",
       " (u'Dita', 'female'),\n",
       " (u'Kennedy', 'male'),\n",
       " (u'Chaddy', 'male'),\n",
       " (u'Coretta', 'female'),\n",
       " (u'Laurent', 'male'),\n",
       " (u'Zora', 'female'),\n",
       " (u'Jordain', 'female'),\n",
       " (u'Penrod', 'male'),\n",
       " (u'Marlon', 'male'),\n",
       " (u'Feodora', 'female'),\n",
       " (u'Colin', 'male'),\n",
       " (u'Val', 'male'),\n",
       " (u'Glynn', 'male'),\n",
       " (u'Melisent', 'female'),\n",
       " (u'Leland', 'male'),\n",
       " (u'Wadsworth', 'male'),\n",
       " (u'Eli', 'male'),\n",
       " (u'Candace', 'female'),\n",
       " (u'Caro', 'female'),\n",
       " (u'Ashly', 'female'),\n",
       " (u'Madlin', 'female'),\n",
       " (u'Doug', 'male'),\n",
       " (u'Jolie', 'female'),\n",
       " (u'Isadore', 'male'),\n",
       " (u'Lay', 'male'),\n",
       " (u'Pat', 'female'),\n",
       " (u'Matty', 'female'),\n",
       " (u'Wesley', 'male'),\n",
       " (u'Iona', 'female'),\n",
       " (u'Cybil', 'female'),\n",
       " (u'Kirk', 'male'),\n",
       " (u'Rachelle', 'female'),\n",
       " (u'Zollie', 'male'),\n",
       " (u'Churchill', 'male'),\n",
       " (u'Voltaire', 'male'),\n",
       " (u'Gay', 'female'),\n",
       " (u'Greta', 'female'),\n",
       " (u'Rupert', 'male'),\n",
       " (u'Dionysus', 'male'),\n",
       " (u'David', 'male'),\n",
       " (u'Sabina', 'female'),\n",
       " (u'Yard', 'male'),\n",
       " (u'Jeralee', 'female'),\n",
       " (u'Johnny', 'male'),\n",
       " (u'Griffith', 'male'),\n",
       " (u'Nixie', 'female'),\n",
       " (u'Siobhan', 'female'),\n",
       " (u'Jamima', 'female'),\n",
       " (u'Alfie', 'female'),\n",
       " (u'Alonso', 'male'),\n",
       " (u'Letisha', 'female'),\n",
       " (u'Clovis', 'female'),\n",
       " (u'Derick', 'male'),\n",
       " (u'Emmi', 'female'),\n",
       " (u'Melosa', 'female'),\n",
       " (u'Yancey', 'male'),\n",
       " (u'Curtis', 'male'),\n",
       " (u'Crawford', 'male'),\n",
       " (u'Courtenay', 'female'),\n",
       " (u'Melvyn', 'male'),\n",
       " (u'Sherwynd', 'male'),\n",
       " (u'Oberon', 'male'),\n",
       " (u'Gusella', 'female'),\n",
       " (u'Gertrudis', 'female'),\n",
       " (u'Clio', 'female'),\n",
       " (u'Lucie', 'female'),\n",
       " (u'Patrick', 'male'),\n",
       " (u'Tan', 'male'),\n",
       " (u'Verna', 'female'),\n",
       " (u'Genna', 'female'),\n",
       " (u'Allys', 'female'),\n",
       " (u'Rolando', 'male'),\n",
       " (u'Roanne', 'female'),\n",
       " (u'Jori', 'female'),\n",
       " (u'Carmina', 'female'),\n",
       " (u'Winifred', 'female'),\n",
       " (u'Esmaria', 'female'),\n",
       " (u'Sophi', 'female'),\n",
       " (u'Andree', 'female'),\n",
       " (u'Edwina', 'female'),\n",
       " (u'Brandon', 'male'),\n",
       " (u'Miranda', 'female'),\n",
       " (u'Raquel', 'female'),\n",
       " (u'Allison', 'female'),\n",
       " (u'Theobald', 'male'),\n",
       " (u'Kevyn', 'female'),\n",
       " (u'Jen', 'female'),\n",
       " (u'Shirl', 'female'),\n",
       " (u'Jerrold', 'male'),\n",
       " (u'Geralda', 'female'),\n",
       " (u'Tia', 'female'),\n",
       " (u'Cody', 'male'),\n",
       " (u'Margie', 'female'),\n",
       " (u'Madelin', 'female'),\n",
       " (u'Ailee', 'female'),\n",
       " (u'Harriet', 'female'),\n",
       " (u'Dorolice', 'female'),\n",
       " (u'Thurston', 'male'),\n",
       " (u'Ichabod', 'male'),\n",
       " (u'Glen', 'female'),\n",
       " (u'Oswald', 'male'),\n",
       " (u'Abel', 'male'),\n",
       " (u'Luise', 'female'),\n",
       " (u'Blanch', 'female'),\n",
       " (u'Woodie', 'male'),\n",
       " (u'Pooh', 'female'),\n",
       " (u'Margalo', 'female'),\n",
       " (u'Mercedes', 'female'),\n",
       " (u'Shani', 'female'),\n",
       " (u'Joanne', 'female'),\n",
       " (u'Andie', 'female'),\n",
       " (u'Lenette', 'female'),\n",
       " (u'Boris', 'male'),\n",
       " (u'Nilson', 'male'),\n",
       " (u'Arvy', 'male'),\n",
       " (u'Lisetta', 'female'),\n",
       " (u'Mahesh', 'male'),\n",
       " (u'Marissa', 'female'),\n",
       " (u'Gus', 'female'),\n",
       " (u'Guillema', 'female'),\n",
       " (u'Kit', 'female'),\n",
       " (u'Zedekiah', 'male'),\n",
       " (u'Becki', 'female'),\n",
       " (u'Merry', 'female'),\n",
       " (u'Konstanze', 'female'),\n",
       " (u'Philly', 'female'),\n",
       " (u'Christy', 'male'),\n",
       " (u'Erwin', 'male'),\n",
       " (u'Guenna', 'female'),\n",
       " (u'Antonio', 'male'),\n",
       " (u'Karalee', 'female'),\n",
       " (u'Anjela', 'female'),\n",
       " (u'Bettie', 'female'),\n",
       " (u'Theodora', 'female'),\n",
       " (u'Rodolph', 'male'),\n",
       " (u'Doralyn', 'female'),\n",
       " (u'Giavani', 'male'),\n",
       " (u'Fletcher', 'male'),\n",
       " (u'Gustaf', 'male'),\n",
       " (u'Inessa', 'female'),\n",
       " (u'Sabra', 'female'),\n",
       " (u'Regine', 'female'),\n",
       " (u'Lysandra', 'female'),\n",
       " (u'Sher', 'female'),\n",
       " (u'Lottie', 'female'),\n",
       " (u'Amalee', 'female'),\n",
       " (u'Ivan', 'male'),\n",
       " (u'Blanche', 'female'),\n",
       " (u'Tab', 'male'),\n",
       " (u'Rubia', 'female'),\n",
       " (u'Janel', 'female'),\n",
       " (u'Emelina', 'female'),\n",
       " (u'Tammie', 'male'),\n",
       " (u'Jerry', 'female'),\n",
       " (u'Deerdre', 'female'),\n",
       " (u'Dew', 'female'),\n",
       " (u'Ayn', 'female'),\n",
       " (u'Donetta', 'female'),\n",
       " (u'Dulcy', 'female'),\n",
       " (u'Prentiss', 'male'),\n",
       " (u'Yves', 'male'),\n",
       " (u'Lavinia', 'female'),\n",
       " (u'Windy', 'female'),\n",
       " (u'Luciana', 'female'),\n",
       " (u'Vonnie', 'female'),\n",
       " (u'Chanderjit', 'male'),\n",
       " (u'Raj', 'male'),\n",
       " (u'Barry', 'male'),\n",
       " (u'Valida', 'female'),\n",
       " (u'Maia', 'female'),\n",
       " (u'Theresa', 'female'),\n",
       " (u'Garfinkel', 'male'),\n",
       " (u'Sayres', 'male'),\n",
       " (u'Georgy', 'male'),\n",
       " (u'Keslie', 'female'),\n",
       " (u'Jehanna', 'female'),\n",
       " (u'Idell', 'female'),\n",
       " (u'Tully', 'male'),\n",
       " (u'Hannie', 'female'),\n",
       " (u'Jocelin', 'female'),\n",
       " (u'Christabel', 'female'),\n",
       " (u'Marthena', 'female'),\n",
       " (u'Jerry', 'male'),\n",
       " (u'Cheri', 'female'),\n",
       " (u'Justin', 'male'),\n",
       " (u'Obadiah', 'male'),\n",
       " (u'Ingrid', 'female'),\n",
       " (u'Jasper', 'male'),\n",
       " (u'Sigfried', 'male'),\n",
       " (u'Heathcliff', 'male'),\n",
       " (u'Lyndsay', 'female'),\n",
       " (u'Lishe', 'female'),\n",
       " (u'Tobey', 'female'),\n",
       " (u'Toddie', 'male'),\n",
       " (u'Charita', 'female'),\n",
       " (u'Dee Dee', 'female'),\n",
       " (u'Gabie', 'female'),\n",
       " (u'Constancia', 'female'),\n",
       " (u'Zorro', 'male'),\n",
       " (u'Kalman', 'male'),\n",
       " (u'Carolie', 'female'),\n",
       " (u'Cassi', 'female'),\n",
       " (u'Jacynth', 'female'),\n",
       " (u'Daryl', 'female'),\n",
       " (u'Darleen', 'female'),\n",
       " (u'Molly', 'female'),\n",
       " (u'Helge', 'female'),\n",
       " (u'Leoine', 'female'),\n",
       " (u'Tracie', 'female'),\n",
       " (u'Madlen', 'female'),\n",
       " (u'Brianne', 'female'),\n",
       " (u'Haley', 'male'),\n",
       " (u'Ashlee', 'female'),\n",
       " (u'Dorit', 'female'),\n",
       " (u'Ethelyn', 'female'),\n",
       " (u'Riki', 'female'),\n",
       " (u'Dimitry', 'male'),\n",
       " (u'Giffy', 'male'),\n",
       " (u'Harli', 'female'),\n",
       " (u'Olivier', 'male'),\n",
       " (u'Kelila', 'female'),\n",
       " (u'Gary', 'male'),\n",
       " (u'Noni', 'female'),\n",
       " (u'Dulcia', 'female'),\n",
       " (u'Modestia', 'female'),\n",
       " (u'Geri', 'female'),\n",
       " (u'Celle', 'female'),\n",
       " (u'Baillie', 'male'),\n",
       " (u'Reggis', 'male'),\n",
       " (u'Reynard', 'male'),\n",
       " (u'Gracie', 'female'),\n",
       " (u'Stormy', 'female'),\n",
       " (u'Moses', 'male'),\n",
       " (u'Ignacio', 'male'),\n",
       " (u'Ryann', 'female'),\n",
       " (u'Mable', 'female'),\n",
       " (u'Samaria', 'female'),\n",
       " (u'Terrie', 'female'),\n",
       " (u'Holly', 'female'),\n",
       " (u'Garth', 'male'),\n",
       " (u'Atalanta', 'female'),\n",
       " (u'Phyllys', 'female'),\n",
       " (u'Godfree', 'male'),\n",
       " (u'Pen', 'male'),\n",
       " (u'Mathilda', 'female'),\n",
       " (u'Christiana', 'female'),\n",
       " (u'Kylynn', 'female'),\n",
       " (u'Isaiah', 'male'),\n",
       " (u'Ludwig', 'male'),\n",
       " (u'Britaney', 'female'),\n",
       " (u'Stafford', 'male'),\n",
       " (u'Tami', 'female'),\n",
       " (u'Billy', 'male'),\n",
       " (u'Emil', 'male'),\n",
       " (u'Zarla', 'female'),\n",
       " (u'Gianina', 'female'),\n",
       " (u'Phoebe', 'female'),\n",
       " (u'Fayina', 'female'),\n",
       " (u'Eadith', 'female'),\n",
       " (u'Arvie', 'male'),\n",
       " (u'Giacomo', 'male'),\n",
       " (u'Tracee', 'female'),\n",
       " (u'Norah', 'female'),\n",
       " (u'Nico', 'male'),\n",
       " (u'Loreen', 'female'),\n",
       " (u'Jewel', 'female'),\n",
       " (u'Kaylil', 'female'),\n",
       " (u'Drake', 'male'),\n",
       " (u'Arabella', 'female'),\n",
       " (u'Alford', 'male'),\n",
       " (u'Quint', 'male'),\n",
       " (u'Ursuline', 'female'),\n",
       " (u'Jim', 'male'),\n",
       " (u'Teresa', 'female'),\n",
       " (u'Daffy', 'male'),\n",
       " (u'Robbin', 'female'),\n",
       " (u'Angelina', 'female'),\n",
       " (u'Goldy', 'female'),\n",
       " (u'Kourtney', 'female'),\n",
       " (u'Lusa', 'female'),\n",
       " (u'Adelice', 'female'),\n",
       " (u'Crysta', 'female'),\n",
       " (u'Dell', 'male'),\n",
       " (u'Gardiner', 'male'),\n",
       " (u'Annalyse', 'female'),\n",
       " (u'Ivy', 'female'),\n",
       " (u'Kalina', 'female'),\n",
       " (u'Neil', 'male'),\n",
       " (u'Bartie', 'male'),\n",
       " (u'Torrence', 'male'),\n",
       " (u'Danna', 'female'),\n",
       " (u'Brandice', 'female'),\n",
       " (u'Junette', 'female'),\n",
       " (u'Teodora', 'female'),\n",
       " (u'Happy', 'female'),\n",
       " (u'Myrtice', 'female'),\n",
       " (u'Lian', 'female'),\n",
       " (u'Hedy', 'female'),\n",
       " (u'Garvy', 'male'),\n",
       " (u'Jeramie', 'male'),\n",
       " (u'Lucky', 'female'),\n",
       " (u'Mead', 'female'),\n",
       " (u'Hector', 'male'),\n",
       " (u'Aile', 'female'),\n",
       " (u'Marna', 'female'),\n",
       " (u'Clara', 'female'),\n",
       " (u'Ben', 'male'),\n",
       " (u'Averil', 'male'),\n",
       " (u'Thacher', 'male'),\n",
       " (u'Jacqui', 'female'),\n",
       " (u'Tammara', 'female'),\n",
       " (u'Janaye', 'female'),\n",
       " (u'Paola', 'female'),\n",
       " (u'Tiffi', 'female'),\n",
       " (u'Luna', 'female'),\n",
       " (u'Frederick', 'male'),\n",
       " (u'Lindsay', 'male'),\n",
       " (u'Bennie', 'male'),\n",
       " (u'Kali', 'female'),\n",
       " (u'Ulrick', 'male'),\n",
       " (u'Hogan', 'male'),\n",
       " (u'Theophyllus', 'male'),\n",
       " (u'Shaylyn', 'female'),\n",
       " (u'Filmore', 'male'),\n",
       " (u'Alfonse', 'male'),\n",
       " (u'Thor', 'male'),\n",
       " (u'Marie', 'female'),\n",
       " (u'Mollie', 'female'),\n",
       " (u'Rabbi', 'male'),\n",
       " (u'Viola', 'female'),\n",
       " (u'Jimbo', 'male'),\n",
       " (u'Ferdie', 'male'),\n",
       " (u'Rodi', 'female'),\n",
       " (u'Winn', 'male'),\n",
       " (u'Andrei', 'female'),\n",
       " (u'Mariquilla', 'female'),\n",
       " (u'Bren', 'female'),\n",
       " (u'Raul', 'male'),\n",
       " (u'Sharity', 'female'),\n",
       " (u'Filide', 'female'),\n",
       " (u'Rutger', 'male'),\n",
       " (u'Sibella', 'female'),\n",
       " (u'Shurwood', 'male'),\n",
       " (u'Vassili', 'male'),\n",
       " (u'Pammie', 'female'),\n",
       " (u'Julianna', 'female'),\n",
       " (u'Deanne', 'female'),\n",
       " (u'Hart', 'male'),\n",
       " (u'Micki', 'female'),\n",
       " (u'Veronike', 'female'),\n",
       " (u'Wynton', 'male'),\n",
       " (u'Antonie', 'female'),\n",
       " (u'Saraann', 'female'),\n",
       " (u'Fyodor', 'male'),\n",
       " (u'Lynn', 'male'),\n",
       " (u'Binnie', 'female'),\n",
       " (u'Klaus', 'male'),\n",
       " (u'Nissie', 'female'),\n",
       " (u'Debora', 'female'),\n",
       " (u'Maddy', 'male'),\n",
       " (u'Clifford', 'male'),\n",
       " (u'Harriott', 'female'),\n",
       " (u'Cordelia', 'female'),\n",
       " (u'Sallyann', 'female'),\n",
       " (u'Apollo', 'male'),\n",
       " (u'Sharron', 'female'),\n",
       " (u'Thaddius', 'male'),\n",
       " (u'Kristin', 'female'),\n",
       " (u'Elnora', 'female'),\n",
       " (u'Grace', 'female'),\n",
       " (u'Fortuna', 'female'),\n",
       " (u'Ianthe', 'female'),\n",
       " (u'Gerhardt', 'male'),\n",
       " (u'Luce', 'male'),\n",
       " (u'Gerrilee', 'female'),\n",
       " (u'Minna', 'female'),\n",
       " (u'Dianne', 'female'),\n",
       " (u'Marcello', 'male'),\n",
       " (u'Von', 'male'),\n",
       " (u'Vilhelm', 'male'),\n",
       " (u'Sissie', 'female'),\n",
       " (u'Henrieta', 'female'),\n",
       " (u'Hestia', 'female'),\n",
       " (u'Brear', 'female'),\n",
       " (u'Jorry', 'female'),\n",
       " (u'Delores', 'female'),\n",
       " (u'Germaine', 'female'),\n",
       " (u'Estella', 'female'),\n",
       " (u'Lars', 'male'),\n",
       " (u'Darian', 'male'),\n",
       " (u'Powell', 'male'),\n",
       " (u'Maryanne', 'female'),\n",
       " (u'Demeter', 'female'),\n",
       " (u'Alix', 'female'),\n",
       " (u'Olimpia', 'female'),\n",
       " (u'Town', 'male'),\n",
       " (u'Tremayne', 'male'),\n",
       " (u'Murielle', 'female'),\n",
       " (u'Bamby', 'female'),\n",
       " (u'Lauretta', 'female'),\n",
       " (u'Ezechiel', 'male'),\n",
       " (u'Lionel', 'male'),\n",
       " (u'Ina', 'female'),\n",
       " (u'Anne-Marie', 'female'),\n",
       " (u'Masha', 'female'),\n",
       " (u'Smitty', 'male'),\n",
       " (u'Rosaleen', 'female'),\n",
       " (u'Nannette', 'female'),\n",
       " (u'Zebulen', 'male'),\n",
       " (u'Onlea', 'female'),\n",
       " (u'Codee', 'female'),\n",
       " (u'Claudie', 'female'),\n",
       " (u'Adelind', 'female'),\n",
       " (u'Giselle', 'female'),\n",
       " (u'Stevy', 'male'),\n",
       " (u'Winifield', 'male'),\n",
       " (u'Marlie', 'female'),\n",
       " (u'Milton', 'male'),\n",
       " (u'Rania', 'female'),\n",
       " (u'Roxanne', 'female'),\n",
       " (u'Willetta', 'female'),\n",
       " (u'Ansell', 'male'),\n",
       " (u'Levon', 'male'),\n",
       " (u'Hermia', 'female'),\n",
       " (u'Hallam', 'male'),\n",
       " (u'Georgia', 'male'),\n",
       " (u'Tawsha', 'female'),\n",
       " (u'Raynard', 'male'),\n",
       " (u'Camile', 'female'),\n",
       " (u'Berenice', 'female'),\n",
       " (u'Karen', 'female'),\n",
       " (u'Tait', 'male'),\n",
       " (u'Stavros', 'male'),\n",
       " (u'Vonni', 'female'),\n",
       " (u'Sindee', 'female'),\n",
       " (u'Tresa', 'female'),\n",
       " (u'Penny', 'female'),\n",
       " (u'Elyn', 'female'),\n",
       " (u'Dorothee', 'female'),\n",
       " (u'Arlyne', 'female'),\n",
       " (u'Kalvin', 'male'),\n",
       " (u'Twyla', 'female'),\n",
       " (u'Tamara', 'female'),\n",
       " (u'Beau', 'male'),\n",
       " (u'Chas', 'male'),\n",
       " (u'Jerri', 'male'),\n",
       " (u'Nanete', 'female'),\n",
       " (u'Abdel', 'male'),\n",
       " (u'Amargo', 'female'),\n",
       " (u'Humphrey', 'male'),\n",
       " (u'Lucio', 'male'),\n",
       " (u'Terence', 'male'),\n",
       " (u'Wake', 'male'),\n",
       " (u'Christine', 'female'),\n",
       " (u'Agnella', 'female'),\n",
       " (u'Rene', 'male'),\n",
       " (u'Haley', 'female'),\n",
       " (u'Selina', 'female'),\n",
       " (u'Marylynne', 'female'),\n",
       " (u'Edythe', 'female'),\n",
       " (u'Dorian', 'female'),\n",
       " (u'Siward', 'male'),\n",
       " (u'Rozina', 'female'),\n",
       " (u'Paige', 'female'),\n",
       " (u'Clarance', 'male'),\n",
       " (u'Vena', 'female'),\n",
       " (u'Dwane', 'male'),\n",
       " (u'Douggie', 'male'),\n",
       " (u'Wendel', 'male'),\n",
       " (u'Clarie', 'female'),\n",
       " (u'Tomasine', 'female'),\n",
       " (u'Fredra', 'female'),\n",
       " (u'Benedict', 'male'),\n",
       " (u'Amy', 'female'),\n",
       " (u'Bernie', 'male'),\n",
       " (u'Aggi', 'female'),\n",
       " (u'Ramsay', 'male'),\n",
       " (u'Zack', 'male'),\n",
       " (u'Benjamin', 'male'),\n",
       " (u'Leanor', 'female'),\n",
       " (u'Lorna', 'female'),\n",
       " (u'Eveleen', 'female'),\n",
       " (u'Bogart', 'male'),\n",
       " (u'Anatollo', 'male'),\n",
       " (u'Rahul', 'male'),\n",
       " (u'Odelle', 'female'),\n",
       " (u'Tharen', 'male'),\n",
       " (u'Bryant', 'male'),\n",
       " (u'Leia', 'female'),\n",
       " (u'Eric', 'male'),\n",
       " (u'Joyann', 'female'),\n",
       " (u'Harald', 'male'),\n",
       " (u'Brina', 'female'),\n",
       " (u'Anya', 'female'),\n",
       " (u'Sibel', 'female'),\n",
       " (u'Maudie', 'female'),\n",
       " (u'Leoline', 'female'),\n",
       " (u'Georg', 'male'),\n",
       " (u'Tabor', 'male'),\n",
       " (u'Cariotta', 'female'),\n",
       " (u'Marge', 'female'),\n",
       " (u'Ewan', 'male'),\n",
       " (u'Maison', 'male'),\n",
       " (u'Sinclair', 'male'),\n",
       " (u'Jacqueline', 'female'),\n",
       " (u'Lorianne', 'female'),\n",
       " (u'Patrice', 'female'),\n",
       " (u'Karsten', 'male'),\n",
       " (u'Evangeline', 'female'),\n",
       " (u'Crystie', 'female'),\n",
       " (u'Angelico', 'male'),\n",
       " (u'Marchelle', 'female'),\n",
       " (u'Brenna', 'female'),\n",
       " (u'Lothar', 'male'),\n",
       " (u'Gilburt', 'male'),\n",
       " (u'Will', 'male'),\n",
       " (u'Zechariah', 'male'),\n",
       " (u'Melody', 'female'),\n",
       " (u'Quintus', 'male'),\n",
       " (u'Gloriana', 'female'),\n",
       " (u'Kaitlynn', 'female'),\n",
       " (u'Cordie', 'female'),\n",
       " (u'Cyrille', 'male'),\n",
       " (u'Pepillo', 'male'),\n",
       " (u'Florance', 'female'),\n",
       " (u'Charity', 'female'),\n",
       " (u'Merry', 'male'),\n",
       " (u'Randall', 'male'),\n",
       " (u'Phillis', 'female'),\n",
       " (u'Garvin', 'male'),\n",
       " (u'Maxie', 'female'),\n",
       " (u'Mairead', 'female'),\n",
       " (u'Yolanthe', 'female'),\n",
       " (u'Nathaniel', 'male'),\n",
       " (u'Isaac', 'male'),\n",
       " (u'Darb', 'female'),\n",
       " (u'Ginnie', 'female'),\n",
       " (u'Honor', 'female'),\n",
       " (u'Carlita', 'female'),\n",
       " (u'Clare', 'male'),\n",
       " (u'Noach', 'male'),\n",
       " (u'Francois', 'male'),\n",
       " (u'Bunnie', 'female'),\n",
       " (u'Petunia', 'female'),\n",
       " (u'Dinny', 'female'),\n",
       " (u'Bellina', 'female'),\n",
       " (u'Demetri', 'male'),\n",
       " (u'Webster', 'male'),\n",
       " (u'Novelia', 'female'),\n",
       " (u'Mohamad', 'male'),\n",
       " (u'Marlane', 'female'),\n",
       " (u'Jo-Anne', 'female'),\n",
       " (u'Veriee', 'female'),\n",
       " (u'Edsel', 'male'),\n",
       " (u'Peyton', 'male'),\n",
       " (u'Sidoney', 'female'),\n",
       " (u'Maurene', 'female'),\n",
       " (u'Vito', 'male'),\n",
       " (u'Kelsi', 'female'),\n",
       " (u'Ernie', 'male'),\n",
       " (u'Gwenneth', 'female'),\n",
       " (u'Shaughn', 'male'),\n",
       " (u'Mallory', 'female'),\n",
       " (u'Clarette', 'female'),\n",
       " (u'Una', 'female'),\n",
       " (u'Calley', 'female'),\n",
       " (u'Thomasin', 'female'),\n",
       " (u'Marc', 'male'),\n",
       " (u'Suellen', 'female'),\n",
       " (u'Harry', 'male'),\n",
       " (u'Sherlock', 'male'),\n",
       " (u'Babs', 'female'),\n",
       " (u'Pansie', 'female'),\n",
       " (u'Bartholomew', 'male'),\n",
       " (u'Valerie', 'female'),\n",
       " (u'Barry', 'female'),\n",
       " (u'Alys', 'female'),\n",
       " (u'Rollins', 'male'),\n",
       " (u'Rodrigo', 'male'),\n",
       " (u'Rubi', 'female'),\n",
       " (u'Nertie', 'female'),\n",
       " (u'Mohamed', 'male'),\n",
       " (u'Shandra', 'female'),\n",
       " (u'Florry', 'female'),\n",
       " (u'Hazel', 'male'),\n",
       " (u'Korney', 'female'),\n",
       " (u'Kelcey', 'female'),\n",
       " (u'Malorie', 'female'),\n",
       " (u'Grethel', 'female'),\n",
       " (u'Hiralal', 'male'),\n",
       " (u'Tre', 'male'),\n",
       " (u'Nettie', 'female'),\n",
       " (u'Gilligan', 'female'),\n",
       " (u'Donny', 'male'),\n",
       " (u'Lanita', 'female'),\n",
       " (u'Ulrica', 'female'),\n",
       " (u'Ainsley', 'female'),\n",
       " (u'Cristionna', 'female'),\n",
       " (u'Kristopher', 'male'),\n",
       " (u'Jerald', 'male'),\n",
       " (u'Frazier', 'male'),\n",
       " (u'Trish', 'female'),\n",
       " (u'Jena', 'female'),\n",
       " (u'Hilary', 'female'),\n",
       " (u'Olle', 'male'),\n",
       " (u'Jackelyn', 'female'),\n",
       " (u'Andy', 'female'),\n",
       " (u'Caritta', 'female'),\n",
       " (u'Lesly', 'female'),\n",
       " (u'Lily', 'female'),\n",
       " (u'Chanda', 'female'),\n",
       " (u'Jilly', 'female'),\n",
       " (u'Nessa', 'female'),\n",
       " (u'Beatriz', 'female'),\n",
       " (u'Hugo', 'male'),\n",
       " (u'Josephus', 'male'),\n",
       " (u'Ebeneser', 'male'),\n",
       " (u'Suzzy', 'female'),\n",
       " (u'Marla', 'female'),\n",
       " (u'Thorndike', 'male'),\n",
       " ...]"
      ]
     },
     "execution_count": 70,
     "metadata": {},
     "output_type": "execute_result"
    }
   ],
   "source": [
    "labeled_names"
   ]
  },
  {
   "cell_type": "code",
   "execution_count": 71,
   "metadata": {
    "collapsed": true
   },
   "outputs": [],
   "source": [
    "features = [(gender_features(n),gender) for n,gender in labeled_names]\n",
    "train_set, test_set = features[500:],features[:500]"
   ]
  },
  {
   "cell_type": "code",
   "execution_count": 73,
   "metadata": {
    "collapsed": false
   },
   "outputs": [],
   "source": [
    "classifier = nltk.NaiveBayesClassifier.train(train_set)"
   ]
  },
  {
   "cell_type": "code",
   "execution_count": 75,
   "metadata": {
    "collapsed": false
   },
   "outputs": [
    {
     "data": {
      "text/plain": [
       "'male'"
      ]
     },
     "execution_count": 75,
     "metadata": {},
     "output_type": "execute_result"
    }
   ],
   "source": [
    "classifier.classify(gender_features('Neo'))"
   ]
  },
  {
   "cell_type": "code",
   "execution_count": 76,
   "metadata": {
    "collapsed": false
   },
   "outputs": [
    {
     "name": "stdout",
     "output_type": "stream",
     "text": [
      "0.77\n"
     ]
    }
   ],
   "source": [
    "print(nltk.classify.accuracy(classifier,test_set))"
   ]
  },
  {
   "cell_type": "code",
   "execution_count": 77,
   "metadata": {
    "collapsed": false
   },
   "outputs": [
    {
     "name": "stdout",
     "output_type": "stream",
     "text": [
      "Most Informative Features\n",
      "             last_letter = u'a'           female : male   =     33.3 : 1.0\n",
      "             last_letter = u'k'             male : female =     31.4 : 1.0\n",
      "             last_letter = u'f'             male : female =     17.4 : 1.0\n",
      "             last_letter = u'p'             male : female =     11.9 : 1.0\n",
      "             last_letter = u'v'             male : female =     10.6 : 1.0\n"
     ]
    }
   ],
   "source": [
    "classifier.show_most_informative_features(5)"
   ]
  },
  {
   "cell_type": "code",
   "execution_count": 78,
   "metadata": {
    "collapsed": true
   },
   "outputs": [],
   "source": [
    "\n"
   ]
  },
  {
   "cell_type": "code",
   "execution_count": null,
   "metadata": {
    "collapsed": true
   },
   "outputs": [],
   "source": []
  }
 ],
 "metadata": {
  "kernelspec": {
   "display_name": "Python 2",
   "language": "python",
   "name": "python2"
  },
  "language_info": {
   "codemirror_mode": {
    "name": "ipython",
    "version": 2
   },
   "file_extension": ".py",
   "mimetype": "text/x-python",
   "name": "python",
   "nbconvert_exporter": "python",
   "pygments_lexer": "ipython2",
   "version": "2.7.10"
  }
 },
 "nbformat": 4,
 "nbformat_minor": 0
}
